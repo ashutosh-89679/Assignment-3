{
  "nbformat": 4,
  "nbformat_minor": 0,
  "metadata": {
    "colab": {
      "provenance": [],
      "collapsed_sections": [],
      "include_colab_link": true
    },
    "kernelspec": {
      "name": "python3",
      "display_name": "Python 3"
    },
    "language_info": {
      "name": "python"
    }
  },
  "cells": [
    {
      "cell_type": "markdown",
      "metadata": {
        "id": "view-in-github",
        "colab_type": "text"
      },
      "source": [
        "<a href=\"https://colab.research.google.com/github/ashutosh-89679/Assignment-3/blob/main/dns_allpracs_sorted.ipynb\" target=\"_parent\"><img src=\"https://colab.research.google.com/assets/colab-badge.svg\" alt=\"Open In Colab\"/></a>"
      ]
    },
    {
      "cell_type": "markdown",
      "source": [
        "## 1.PRAC 1  **CAESAR** **CIPHER**"
      ],
      "metadata": {
        "id": "lX0IniT9B5E6"
      }
    },
    {
      "cell_type": "code",
      "source": [
        "text = \"GAND PHATI PADI HAI\"\n",
        "s = 4\n",
        "result = \"\"\n",
        "print (\"Text : \" + text)\n",
        "print (\"Shift : \" + str(s))\n",
        "for i in range(len(text)):\n",
        "    char = text[i]\n",
        "    x = char.upper()\n",
        "    result += chr((ord(x) + s-65) % 26 + 65)\n",
        "print (\"Cipher: \" + result)\n"
      ],
      "metadata": {
        "id": "R7XPFqq7AK-W",
        "colab": {
          "base_uri": "https://localhost:8080/"
        },
        "outputId": "6d8fb896-bfb3-4f1a-9518-a8346a549220"
      },
      "execution_count": null,
      "outputs": [
        {
          "output_type": "stream",
          "name": "stdout",
          "text": [
            "Text : GAND PHATI PADI HAI\n",
            "Shift : 4\n",
            "Cipher: KERHXTLEXMXTEHMXLEM\n"
          ]
        }
      ]
    },
    {
      "cell_type": "markdown",
      "source": [
        "# PRAC 1 - 2. MODIFIED CAESAR CIPHER\n",
        "\n",
        "\n",
        "\n",
        "\n",
        "\n"
      ],
      "metadata": {
        "id": "kF9IbrBcCAkP"
      }
    },
    {
      "cell_type": "code",
      "source": [
        "word = input(\"Enter the cipher text: \")\n",
        "k = int(input(\"Enter the key offset: \"))\n",
        "c = ''\n",
        "for i in word:\n",
        "    if (i == ' '):\n",
        "        c += ' '\n",
        "    else:\n",
        "        c += (chr(ord(i) - k))\n",
        "print(\"plaint text is \" , c)"
      ],
      "metadata": {
        "id": "wcIylJ0HCXpI",
        "colab": {
          "base_uri": "https://localhost:8080/"
        },
        "outputId": "470af54a-f1cf-4a48-816a-9f1920e9e8e5"
      },
      "execution_count": null,
      "outputs": [
        {
          "output_type": "stream",
          "name": "stdout",
          "text": [
            "Enter the cipher text: ashu\n",
            "Enter the key offset: 4\n",
            "plaint text is  ]odq\n"
          ]
        }
      ]
    },
    {
      "cell_type": "markdown",
      "source": [
        "# PRAC 1 - 3. MONOALPHABETIC CIPHER"
      ],
      "metadata": {
        "id": "1-mrIwZ7Fame"
      }
    },
    {
      "cell_type": "code",
      "source": [
        "keys={'a':'z','b':'y','c':'x','d':'w','e':'v','f':'u','g':'t','h':'s','i':'r','j':'q','k':'p','l':'o','m':'n'}\n",
        "reverse_keys={}\n",
        "for key,value in keys.items():\n",
        "  reverse_keys[value]=key\n",
        " \n",
        "text2 = \"hej\"\n",
        "encrypting=[]\n",
        "for l in text2:\n",
        "  encrypting.append(keys.get(l,l))\n",
        "  print(''.join(encrypting))\n",
        " \n",
        "text = \"svq\"\n",
        "decrypted=[]\n",
        "for l in text:\n",
        "  decrypted.append(reverse_keys.get(l,l))\n",
        "print(''.join(decrypted))\n"
      ],
      "metadata": {
        "id": "cgqNf19KIV1y",
        "colab": {
          "base_uri": "https://localhost:8080/"
        },
        "outputId": "6845c619-d87a-42c8-d279-9ca8ae3ba2dc"
      },
      "execution_count": null,
      "outputs": [
        {
          "output_type": "stream",
          "name": "stdout",
          "text": [
            "s\n",
            "sv\n",
            "svq\n",
            "hej\n"
          ]
        }
      ]
    },
    {
      "cell_type": "markdown",
      "source": [
        "# PRAC 1 - 4. POLY ALPHABETIC CIPHER"
      ],
      "metadata": {
        "id": "D_-rlq-qJLUL"
      }
    },
    {
      "cell_type": "code",
      "source": [
        "def generateKey(string, key):\n",
        "  key = list(key)\n",
        "  if len(string) == len(key):\n",
        "    return(key)\n",
        "  else:\n",
        "    for i in range(len(string) - len(key)):\n",
        "      key.append(key[i % len(key)])\n",
        "  return(\"\" . join(key)) \n",
        "\n",
        "def cipherText(string, key):\n",
        "  cipher_text = []\n",
        "  for i in range(len(string)):\n",
        "    x = (ord(string[i]) + ord(key[i])) % 26\n",
        "    x += ord('A')\n",
        "    cipher_text.append(chr(x))\n",
        "  return(\"\" . join(cipher_text))\n",
        "\n",
        "def originalText(cipher_text, key):\n",
        "  orig_text = []\n",
        "  for i in range(len(cipher_text)):\n",
        "    x = (ord(cipher_text[i]) - ord(key[i]) + 26) % 26\n",
        "    x += ord('A')\n",
        "    orig_text.append(chr(x))\n",
        "  return(\"\" . join(orig_text))\n",
        "# Driver PROGRAM CODE\n",
        "\n",
        "\n",
        "string = \"ABCDEFGHIJKLMNOPQRSTUVWXYZ\"\n",
        "keyword = \"KEYWORD\"\n",
        "key = generateKey(string, keyword)\n",
        "cipher_text = cipherText(string,key)\n",
        "print(\"Ciphertext :\", cipher_text)\n",
        "print(\"Original/Decrypted Text :\",originalText(cipher_text, key))\n"
      ],
      "metadata": {
        "id": "Ep-ZKbC5JOdA",
        "colab": {
          "base_uri": "https://localhost:8080/"
        },
        "outputId": "d8d0f687-f42e-4d15-f90f-c828e9372547"
      },
      "execution_count": null,
      "outputs": [
        {
          "output_type": "stream",
          "name": "stdout",
          "text": [
            "Ciphertext : KFAZSWJRMHGZDQYTONGKXFAVUN\n",
            "Original/Decrypted Text : ABCDEFGHIJKLMNOPQRSTUVWXYZ\n"
          ]
        }
      ]
    },
    {
      "cell_type": "markdown",
      "source": [
        "# PRAC 1 - 4. VERMAN CIPHER"
      ],
      "metadata": {
        "id": "tI3SZRfIXUq-"
      }
    },
    {
      "cell_type": "code",
      "source": [
        "vernam_dict = {1: 'a', 2: 'b', 3: 'c', 4: 'd', 5: 'e', 6: 'f', 7: 'g', 8: 'h', 9: 'i', 10: 'j', 11: 'k', 12: 'l', 13: 'm', 14: 'n', 15: 'o', 16: 'p', 17: 'q', 18: 'r', 19: 's', 20: 't', 21: 'u', 22: 'v', 23: 'w', 24: 'x', 25: 'y', 26: 'z'}\n",
        " \n",
        "def vernam_encrypt(plain, key):\n",
        "    plain = plain.lower()\n",
        "    ckey = ''.join([(key[i % len(key)]) for i in range(len(list(plain)))])\n",
        "    print(ckey)\n",
        "    cipher = ''\n",
        "    for i in range(len(plain)):\n",
        "        if plain[i] == ' ':\n",
        "            cipher += ' '\n",
        "        else:\n",
        "            cipher += vernam_dict[(ord(plain[i]) + ord(ckey[i])) % 26]\n",
        "    print(cipher, plain)\n",
        " \n",
        "print(vernam_encrypt('mountains are bae', 'hello'))\n"
      ],
      "metadata": {
        "id": "E-Xy-ltwXatZ",
        "colab": {
          "base_uri": "https://localhost:8080/"
        },
        "outputId": "95e433f9-c642-4fbd-a528-eda81de36e7a"
      },
      "execution_count": null,
      "outputs": [
        {
          "output_type": "stream",
          "name": "stdout",
          "text": [
            "hellohellohellohe\n",
            "edqjssxjo sga ast mountains are bae\n",
            "None\n"
          ]
        }
      ]
    },
    {
      "cell_type": "markdown",
      "source": [
        "# Practical 2 - 1. RAILFENCE TRANSPOSITION CIPHER"
      ],
      "metadata": {
        "id": "mmPT-ut8ZYN3"
      }
    },
    {
      "cell_type": "code",
      "source": [
        "s=input(\"Enter string: \")\n",
        "k=int(input(\"Enter key: \"))\n",
        "enc=[[\" \" for i in range(len(s))] for j in range(k)]\n",
        "print(enc)\n",
        "flag=0\n",
        "row=0\n",
        "for i in range(len(s)):\n",
        "  enc[row][i]=s[i]\n",
        "  if row==0:\n",
        "    flag=0\n",
        "  elif row==k-1:\n",
        "    flag=1\n",
        "  if flag==0:\n",
        "    row+=1\n",
        "  else:\n",
        "    row-=1\n",
        "for i in range(k):\n",
        "  print(\"\".join(enc[i]))\n",
        "ct=[]\n",
        "for i in range(k):\n",
        "    for j in range(len(s)):\n",
        "        if enc[i][j]!=' ':\n",
        "            ct.append(enc[i][j])\n",
        " \n",
        "cipher=\"\".join(ct)\n",
        "print(\"Cipher Text: \",cipher)\n"
      ],
      "metadata": {
        "id": "JgbqLDY8Zl4u"
      },
      "execution_count": null,
      "outputs": []
    },
    {
      "cell_type": "markdown",
      "source": [
        "# Practical 2 - 2. SIMPLE COLUMNAR CIPHER"
      ],
      "metadata": {
        "id": "xOuq1lCahCp4"
      }
    },
    {
      "cell_type": "code",
      "source": [
        "import math\n",
        " \n",
        "key = \"sur\"\n",
        "# Encryption\n",
        "def encryptMessage(msg):\n",
        "    cipher = \"\"\n",
        "    # track key indices\n",
        "    k_indx = 0\n",
        "    msg_len = float(len(msg))\n",
        "    msg_lst = list(msg)\n",
        "    key_lst = sorted(list(key))\n",
        "    col = len(key)\n",
        "    row = int(math.ceil(msg_len / col))\n",
        "    fill_null = int((row * col) - msg_len)\n",
        "    msg_lst.extend('_' * fill_null)\n",
        "    matrix = [msg_lst[i: i + col]\n",
        "              for i in range(0, len(msg_lst), col)]\n",
        "    for _ in range(col):\n",
        "        curr_idx = key.index(key_lst[k_indx])\n",
        "        cipher += ''.join([row[curr_idx]\n",
        "                          for row in matrix])\n",
        "        k_indx += 1\n",
        " \n",
        "    return cipher\n",
        " \n",
        "# Decryption\n",
        " \n",
        "def decryptMessage(cipher):   \n",
        "     msg = \"\"\n",
        "     k_indx = 0\n",
        "     msg_indx = 0\n",
        "     msg_len = float(len(cipher))\n",
        "     msg_lst = list(cipher)\n",
        "     # calculate column of the matrix\n",
        "     col = len(key)\n",
        "     row = int(math.ceil(msg_len / col))\n",
        "     key_lst = sorted(list(key))\n",
        "     dec_cipher = []\n",
        "     for _ in range(row):\n",
        "         dec_cipher += [[None] * col]\n",
        "     for _ in range(col):\n",
        "         curr_idx = key.index(key_lst[k_indx])\n",
        "         for j in range(row):\n",
        "             dec_cipher[j][curr_idx] = msg_lst[msg_indx]\n",
        "             msg_indx += 1\n",
        "         k_indx += 1\n",
        "     try:\n",
        "         msg = ''.join(sum(dec_cipher, []))\n",
        "     except TypeError:\n",
        "         raise TypeError(\"This program cannot\",\n",
        "                         \"handle repeating words.\")  \n",
        "     null_count = msg.count('_')\n",
        "     if null_count > 0:\n",
        "        print(msg[: -null_count])  \n",
        "     return msg\n",
        "msg = \"ashutosh mishra\"\n",
        " \n",
        "cipher = encryptMessage(msg)\n",
        "print(\"Encrypted Message: {}\".\n",
        "               format(cipher))\n",
        " \n",
        "print(\"Decryped Message: {}\".\n",
        "       format(decryptMessage(cipher)))\n"
      ],
      "metadata": {
        "id": "C35zgqm_hKXM"
      },
      "execution_count": null,
      "outputs": []
    },
    {
      "cell_type": "markdown",
      "source": [
        "# Practical  - 3. DIFFIE-HELLMAN KEY EXCHANGE ALGORITHM"
      ],
      "metadata": {
        "id": "38GXqWRvlSui"
      }
    },
    {
      "cell_type": "code",
      "source": [
        "p = int(input(\"enter p value: \"))\n",
        "g = int(input(\"enter g value: \"))\n",
        " \n",
        "#private key\n",
        "a = int(input(\"enter the private key a: \"))\n",
        "b = int(input(\"enter the private key b: \"))\n",
        " \n",
        "#calculate value of x and y\n",
        "if g<p :\n",
        "    x = int(pow(g,a,p))\n",
        "    y = int(pow(g,b,p))\n",
        " \n",
        "    if 0<x<p-1 and 0<y<p-1:\n",
        "        Ka = int(pow(y,a,p))\n",
        "        Kb = int(pow(x,b,p))\n",
        " \n",
        "        if Ka == Kb:\n",
        "            print(\"the shared key is: %d\"%(Kb))\n",
        "        else:\n",
        "            print(\"the key is not shared\")\n",
        "    else:\n",
        "        print(\"value is wrong\")\n",
        "else:\n",
        "    print(\"the value of g should be less than p \")\n"
      ],
      "metadata": {
        "colab": {
          "base_uri": "https://localhost:8080/"
        },
        "id": "6Mj6SmEelZ62",
        "outputId": "54a0f360-4fdc-420b-9820-f94cfd35d01a"
      },
      "execution_count": null,
      "outputs": [
        {
          "output_type": "stream",
          "name": "stdout",
          "text": [
            "enter p value: 23\n",
            "enter g value: 22\n",
            "enter the private key a: 2\n",
            "enter the private key b: 1\n",
            "value is wrong\n"
          ]
        }
      ]
    },
    {
      "cell_type": "markdown",
      "source": [
        "# Practical  - 4 IMPLEMENT AES AND DES"
      ],
      "metadata": {
        "id": "b8VGio-smKjm"
      }
    },
    {
      "cell_type": "code",
      "source": [
        "import binascii,os\n",
        "import random, string\n",
        "from Crypto.Cipher import AES\n",
        " \n",
        "iv = os.urandom(16)\n",
        "aes_mode = AES.MODE_CBC\n",
        "key = ''.join(random.choice(string.ascii_uppercase +\n",
        "string.ascii_lowercase + string.digits) for _ in range(16))\n",
        "print(key)\n",
        "encryptor = AES.new(key, aes_mode, iv)\n",
        "def aes_encrypt(plaintext):\n",
        "  plaintext = convert_to_16(plaintext)\n",
        " \n",
        "  ciphertext = encryptor.encrypt(plaintext)\n",
        "  return ciphertext\n",
        " \n",
        "def convert_to_16(plaintext):\n",
        "  add = 16-(len(plaintext) % 6)\n",
        "  return(plaintext + ' ' * add)\n",
        " \n",
        "Encrypted = aes_encrypt('ashu')\n",
        "print(\"Encrypted Message: \" , Encrypted)\n",
        "print(\"Ashu\")\n"
      ],
      "metadata": {
        "colab": {
          "base_uri": "https://localhost:8080/"
        },
        "id": "L9uc7IZ6mS78",
        "outputId": "ec980f0a-54c5-4682-db21-3eb578c90ef6"
      },
      "execution_count": null,
      "outputs": [
        {
          "output_type": "stream",
          "name": "stdout",
          "text": [
            "bUCe0GEXSHtqfgbx\n",
            "Encrypted Message:  b'\\xe4\\xdc_\\xfb\\x9fO{\\xbc\\x98\\xb7\\x93\\x7f\\xe2\\xf9\\r\\xd8'\n",
            "Ashu\n"
          ]
        }
      ]
    },
    {
      "cell_type": "code",
      "source": [
        "from Crypto.Cipher import DES\n",
        "from Crypto import Random\n",
        "iv = Random.get_random_bytes(8)\n",
        "des1 = DES.new('01234567',DES.MODE_CFB, iv)\n",
        "des2 = DES.new('01234567',DES.MODE_CFB, iv)\n",
        "text = 'ashu'\n",
        "cipher_text=des1.encrypt(text)\n",
        "print(\"Encrypted message:\",cipher_text)\n",
        "print(\"Decrypted message:\",(des2.decrypt(cipher_text)))\n",
        "print(\"........\")\n"
      ],
      "metadata": {
        "id": "b5RYtJINmzye",
        "colab": {
          "base_uri": "https://localhost:8080/"
        },
        "outputId": "701bb1c1-e2af-4881-b634-72bed205e1f6"
      },
      "execution_count": null,
      "outputs": [
        {
          "output_type": "stream",
          "name": "stdout",
          "text": [
            "Encrypted message: b'Y\\x06Zy'\n",
            "Decrypted message: b'ashu'\n",
            "........\n"
          ]
        }
      ]
    },
    {
      "cell_type": "markdown",
      "source": [
        "# PRACTICAL 5 - IMPLEMENTING RSA"
      ],
      "metadata": {
        "id": "GPaWPZHDm8R_"
      }
    },
    {
      "cell_type": "code",
      "source": [
        "A = int(input(\"enter a 1st prime number: \"))\n",
        "B = int(input(\"enter a 2nd prime number: \"))\n",
        "F1=[]\n",
        "F2=[]\n",
        "def gcd(r,s):\n",
        "    while s != 0:\n",
        "        r, s = s, r%s\n",
        "    return r\n",
        "def is_coprime(x, y):\n",
        "    return gcd(x, y) == 1\n",
        " \n",
        "prime = is_coprime(A, B)\n",
        "if prime == True:\n",
        "  N=A*B\n",
        "  print(\"Product of \",A,\" and \",B,\" = \",N)\n",
        "  p = ((A-1)*(B-1 ))\n",
        "  for i in range(2,p + 1):\n",
        "    if p % i == 0:\n",
        "        count = 1\n",
        "        for j in range(2,(i//2 + 1)):\n",
        "            if(i % j == 0):\n",
        "                count = 0\n",
        "                break\n",
        "        if(count == 1):\n",
        "            F1.append(i)\n",
        "  E = int(input(\"enter Encryption value: \"))\n",
        "  if E<A and E<B:\n",
        "    for w in range(2,E + 1):\n",
        "      if E % w == 0:\n",
        "          count = 1\n",
        "          for y in range(2,(w//2 + 1)):\n",
        "              if(w % y == 0):\n",
        "                  count = 0\n",
        "                  break\n",
        "          if(count == 1):\n",
        "              F2.append(w)         \n",
        "    if (F1==F2):\n",
        "      print(\"The Factors are Similar, they need to be different\")\n",
        "    else:\n",
        "      D = int(input(\"value for Private Key: \"))\n",
        "      if ((D*E) % (p) )== 1:\n",
        "        text = input(\"enter text: \")\n",
        "        PT = len(text)\n",
        "        Ciphertext = ((PT**E) % N)\n",
        "        print(Ciphertext)\n",
        "       \n",
        "        Plaintext = ((Ciphertext**D) % N)\n",
        "        print(Plaintext)\n",
        "      else:\n",
        "        print(\"The equation is not equal to 1\")\n",
        "  else:\n",
        "    print(\"value of Encryption should be small\")\n",
        "else:\n",
        "  print(\"check the numbers again\")\n"
      ],
      "metadata": {
        "id": "LR-CCGpcnDXL"
      },
      "execution_count": null,
      "outputs": []
    },
    {
      "cell_type": "markdown",
      "source": [
        "# PRACTICAL 6 MESSAGE DIGEST "
      ],
      "metadata": {
        "id": "86a1vNTEnUwX"
      }
    },
    {
      "cell_type": "code",
      "source": [
        "import hashlib\n",
        " \n",
        "result = hashlib.md5(b'text')\n",
        "# printing the equivalent byte value.\n",
        "print(\"the byte equivalent of hash is: \", end=\"\")\n",
        "print(result.digest())\n"
      ],
      "metadata": {
        "id": "oZ-TxEwLndMh",
        "colab": {
          "base_uri": "https://localhost:8080/"
        },
        "outputId": "46dc3dda-91c3-43e5-fc31-6d4e72fc51cb"
      },
      "execution_count": null,
      "outputs": [
        {
          "output_type": "stream",
          "name": "stdout",
          "text": [
            "the byte equivalent of hash is: b'\\x1c\\xb2Q\\xec\\rV\\x8d\\xe6\\xa9)\\xb5 \\xc4\\xae\\xd8\\xd1'\n"
          ]
        }
      ]
    },
    {
      "cell_type": "markdown",
      "source": [
        "# PRACTICAL 7 - HASH FUNCTION"
      ],
      "metadata": {
        "id": "sfSQpUHVnlQa"
      }
    },
    {
      "cell_type": "code",
      "source": [
        "import hmac\n",
        "import hashlib\n",
        " \n",
        "text = b'this is a plain text'\n",
        "print('text: ',text)\n",
        " \n",
        "key = b'panthiv'\n",
        "print('key: ',key)\n",
        " \n",
        "hashed = hmac.new(key,text, hashlib.sha1)\n",
        "print('hashed value: ',hashed.digest())\n"
      ],
      "metadata": {
        "id": "NatL2CP_nuFe",
        "colab": {
          "base_uri": "https://localhost:8080/"
        },
        "outputId": "0627cab8-f708-4464-e8dd-c3d0f579a2bf"
      },
      "execution_count": null,
      "outputs": [
        {
          "output_type": "stream",
          "name": "stdout",
          "text": [
            "text:  b'this is a plain text'\n",
            "key:  b'panthiv'\n",
            "hashed value:  b'\\xb6+\\x92{\\xeaONv\\xbe\\xb9\\\\\\x92\\x8f\\xea\\xc9l\\x03\\x0cG\\xda'\n"
          ]
        }
      ]
    },
    {
      "cell_type": "markdown",
      "source": [
        "# PRACTICAL 8 - ASYMMETRIC AND SYMMETRIC  "
      ],
      "metadata": {
        "id": "sqglGpX3qPqY"
      }
    },
    {
      "cell_type": "code",
      "source": [
        "#ASYMMETRIC\n",
        "from cryptography.fernet import Fernet\n",
        "message = \"black horse\"\n",
        "key = Fernet.generate_key()\n",
        "fernet = Fernet(key)\n",
        "encMessage = fernet.encrypt(message.encode())\n",
        "print(\"original string: \", message)\n",
        "print(\"encrypted string: \", encMessage)\n",
        "decMessage = fernet.decrypt(encMessage).decode()\n",
        "print(\"decrypted string: \", decMessage)\n"
      ],
      "metadata": {
        "id": "llqHPjFcqemX",
        "colab": {
          "base_uri": "https://localhost:8080/"
        },
        "outputId": "75a9eefb-0fbd-44cd-db86-5718525c51b8"
      },
      "execution_count": null,
      "outputs": [
        {
          "output_type": "stream",
          "name": "stdout",
          "text": [
            "original string:  black horse\n",
            "encrypted string:  b'gAAAAABjKF9BLMIbjSCEF6WRBO__-K1r3gkyHpTIawOtEtCiCNq_OaN8NIkRseztX04jaZet2KKBS7FPIXBpOyBYt3UC8giHpw=='\n",
            "decrypted string:  black horse\n"
          ]
        }
      ]
    },
    {
      "cell_type": "code",
      "source": [
        "#SYMMETRIC \n",
        "import rsa\n",
        "publicKey, privateKey = rsa.newkeys(512)\n",
        "message = \"khandwlaa college\"\n",
        "encMessage = rsa.encrypt(message.encode(), publicKey)\n",
        "print(\"original string: \", message)\n",
        "print(\"encrypted string: \", encMessage)\n",
        "decMessage = rsa.decrypt(encMessage, privateKey).decode()\n",
        "print(\"decrypted string: \", decMessage)"
      ],
      "metadata": {
        "colab": {
          "base_uri": "https://localhost:8080/"
        },
        "id": "267TGtXMsaFl",
        "outputId": "2d3cbdd9-76ee-4190-c9f6-0c970ed088a6"
      },
      "execution_count": null,
      "outputs": [
        {
          "output_type": "stream",
          "name": "stdout",
          "text": [
            "original string:  khandwlaa college\n",
            "encrypted string:  b'\\x0e\\x94R\\x1e\\xd43%.\\xa0\\x89\\x1d\\x06UN\\xe6$\\x19\\xa5V\\xec\\x8el\\xec\\xd5\\xc4\\x1e\\xbb:\\x12\\xdf\\xb0\\xff\\xa4\\xf9\\xe1C\\xd5y\\xde\\x8dF\\x1b\\x82u\\t\\x9a\\x84\\xa7zc5#e9\\x14}\\xb4a%i\\x9c\\xc0c\\xbd'\n",
            "decrypted string:  khandwlaa college\n"
          ]
        }
      ]
    },
    {
      "cell_type": "code",
      "source": [
        "!pip install cryptography"
      ],
      "metadata": {
        "colab": {
          "base_uri": "https://localhost:8080/"
        },
        "id": "hEXopb1ErOQ5",
        "outputId": "3d953fad-c0e8-4ab8-8ab7-a0f8f0316622"
      },
      "execution_count": null,
      "outputs": [
        {
          "output_type": "stream",
          "name": "stdout",
          "text": [
            "Looking in indexes: https://pypi.org/simple, https://us-python.pkg.dev/colab-wheels/public/simple/\n",
            "Collecting cryptography\n",
            "  Downloading cryptography-38.0.1-cp36-abi3-manylinux_2_24_x86_64.whl (4.0 MB)\n",
            "\u001b[K     |████████████████████████████████| 4.0 MB 4.9 MB/s \n",
            "\u001b[?25hRequirement already satisfied: cffi>=1.12 in /usr/local/lib/python3.7/dist-packages (from cryptography) (1.15.1)\n",
            "Requirement already satisfied: pycparser in /usr/local/lib/python3.7/dist-packages (from cffi>=1.12->cryptography) (2.21)\n",
            "Installing collected packages: cryptography\n",
            "Successfully installed cryptography-38.0.1\n"
          ]
        }
      ]
    }
  ]
}